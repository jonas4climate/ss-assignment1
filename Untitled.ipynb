{
 "cells": [
  {
   "cell_type": "code",
   "execution_count": null,
   "metadata": {},
   "outputs": [],
   "source": [
    "import numpy as np\n",
    "import matplotlib.pyplot as plt"
   ]
  },
  {
   "cell_type": "code",
   "execution_count": null,
   "metadata": {
    "scrolled": true
   },
   "outputs": [],
   "source": [
    "def mandelbrot(iterator, max_iterations, c):\n",
    "    final_number = 0\n",
    "    while iterator < max_iterations:\n",
    "        final_number = final_number**2 + c\n",
    "        iterator += 1\n",
    "    return final_number\n",
    "\n",
    "mandelbrot(0, 4, 1)"
   ]
  },
  {
   "cell_type": "code",
   "execution_count": null,
   "metadata": {},
   "outputs": [],
   "source": [
    "def mandelbrot(iterator, max_iterations, c):\n",
    "    final_number = 0\n",
    "    while iterator < max_iterations:\n",
    "        final_number = final_number**2 + c\n",
    "        iterator += 1\n",
    "        if abs(final_number) > 2.0:\n",
    "            return iterator \n",
    "    return max_iterations\n",
    "# # Complex number\n",
    "# np.complex(2,3)\n",
    "\n",
    "# Generating a set of complex numbers to test\n",
    "re = np.linspace(-2, 2, 200)\n",
    "im = np.linspace(-2, 2, 200)\n",
    "\n",
    "complex_list = [] \n",
    "# Create a list of complex numbers\n",
    "for imaginary in im:\n",
    "    for real in re:\n",
    "        complex_list.append(np.complex(real, imaginary))\n",
    "\n",
    "max_iterations = 100\n",
    "valid_numbers = [] # list of numbers that complete the loop\n",
    "# test every number in the complex number list \n",
    "for complex_number in complex_list:\n",
    "    iterations = mandelbrot(0, max_iterations, complex_number)  \n",
    "    if iterations == max_iterations:\n",
    "        valid_numbers.append(complex_number)\n",
    "\n",
    "# Splitting the real and imaginary numbers from the complex number list that pass the mandelbrot recursion\n",
    "real_list, imaginary_list = zip(*[(np.real(c_number), np.imag(c_number)) for c_number in complex_list])\n",
    "\n",
    "plt.imshow(valid_numbers)"
   ]
  }
 ],
 "metadata": {
  "kernelspec": {
   "display_name": "Python 3",
   "language": "python",
   "name": "python3"
  },
  "language_info": {
   "codemirror_mode": {
    "name": "ipython",
    "version": 3
   },
   "file_extension": ".py",
   "mimetype": "text/x-python",
   "name": "python",
   "nbconvert_exporter": "python",
   "pygments_lexer": "ipython3",
   "version": "3.11.4"
  }
 },
 "nbformat": 4,
 "nbformat_minor": 2
}
